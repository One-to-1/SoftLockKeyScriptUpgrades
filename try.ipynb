{
 "cells": [
  {
   "cell_type": "code",
   "execution_count": 1,
   "metadata": {},
   "outputs": [
    {
     "name": "stdout",
     "output_type": "stream",
     "text": [
      "Rolls: 190000, Elapsed Time: 71.47 seconds\r"
     ]
    },
    {
     "ename": "KeyboardInterrupt",
     "evalue": "",
     "output_type": "error",
     "traceback": [
      "\u001b[1;31m---------------------------------------------------------------------------\u001b[0m",
      "\u001b[1;31mKeyboardInterrupt\u001b[0m                         Traceback (most recent call last)",
      "Cell \u001b[1;32mIn[1], line 17\u001b[0m\n\u001b[0;32m     15\u001b[0m numbers \u001b[38;5;241m=\u001b[39m [\u001b[38;5;241m0\u001b[39m, \u001b[38;5;241m0\u001b[39m, \u001b[38;5;241m0\u001b[39m, \u001b[38;5;241m0\u001b[39m]\n\u001b[0;32m     16\u001b[0m \u001b[38;5;28;01mfor\u001b[39;00m i \u001b[38;5;129;01min\u001b[39;00m repeat(\u001b[38;5;28;01mNone\u001b[39;00m, \u001b[38;5;241m231\u001b[39m):\n\u001b[1;32m---> 17\u001b[0m     roll \u001b[38;5;241m=\u001b[39m \u001b[43mrandom\u001b[49m\u001b[38;5;241;43m.\u001b[39;49m\u001b[43mchoice\u001b[49m\u001b[43m(\u001b[49m\u001b[43mitems\u001b[49m\u001b[43m)\u001b[49m\n\u001b[0;32m     18\u001b[0m     numbers[roll\u001b[38;5;241m-\u001b[39m\u001b[38;5;241m1\u001b[39m] \u001b[38;5;241m=\u001b[39m numbers[roll\u001b[38;5;241m-\u001b[39m\u001b[38;5;241m1\u001b[39m] \u001b[38;5;241m+\u001b[39m \u001b[38;5;241m1\u001b[39m\n\u001b[0;32m     19\u001b[0m rolls \u001b[38;5;241m=\u001b[39m rolls \u001b[38;5;241m+\u001b[39m \u001b[38;5;241m1\u001b[39m\n",
      "File \u001b[1;32mc:\\ProgramData\\anaconda3\\lib\\random.py:378\u001b[0m, in \u001b[0;36mRandom.choice\u001b[1;34m(self, seq)\u001b[0m\n\u001b[0;32m    376\u001b[0m \u001b[38;5;250m\u001b[39m\u001b[38;5;124;03m\"\"\"Choose a random element from a non-empty sequence.\"\"\"\u001b[39;00m\n\u001b[0;32m    377\u001b[0m \u001b[38;5;66;03m# raises IndexError if seq is empty\u001b[39;00m\n\u001b[1;32m--> 378\u001b[0m \u001b[38;5;28;01mreturn\u001b[39;00m seq[\u001b[38;5;28;43mself\u001b[39;49m\u001b[38;5;241;43m.\u001b[39;49m\u001b[43m_randbelow\u001b[49m\u001b[43m(\u001b[49m\u001b[38;5;28;43mlen\u001b[39;49m\u001b[43m(\u001b[49m\u001b[43mseq\u001b[49m\u001b[43m)\u001b[49m\u001b[43m)\u001b[49m]\n",
      "File \u001b[1;32mc:\\ProgramData\\anaconda3\\lib\\random.py:247\u001b[0m, in \u001b[0;36mRandom._randbelow_with_getrandbits\u001b[1;34m(self, n)\u001b[0m\n\u001b[0;32m    245\u001b[0m k \u001b[38;5;241m=\u001b[39m n\u001b[38;5;241m.\u001b[39mbit_length()  \u001b[38;5;66;03m# don't use (n-1) here because n can be 1\u001b[39;00m\n\u001b[0;32m    246\u001b[0m r \u001b[38;5;241m=\u001b[39m getrandbits(k)  \u001b[38;5;66;03m# 0 <= r < 2**k\u001b[39;00m\n\u001b[1;32m--> 247\u001b[0m \u001b[38;5;28;01mwhile\u001b[39;00m \u001b[43mr\u001b[49m\u001b[43m \u001b[49m\u001b[38;5;241;43m>\u001b[39;49m\u001b[38;5;241;43m=\u001b[39;49m\u001b[43m \u001b[49m\u001b[43mn\u001b[49m:\n\u001b[0;32m    248\u001b[0m     r \u001b[38;5;241m=\u001b[39m getrandbits(k)\n\u001b[0;32m    249\u001b[0m \u001b[38;5;28;01mreturn\u001b[39;00m r\n",
      "\u001b[1;31mKeyboardInterrupt\u001b[0m: "
     ]
    }
   ],
   "source": [
    "import random\n",
    "import math\n",
    "from itertools import repeat\n",
    "import time\n",
    "\n",
    "# Start the timer\n",
    "start_time = time.time()\n",
    "\n",
    "items = [1, 2, 3, 4]\n",
    "numbers = [0, 0, 0, 0]\n",
    "rolls = 0\n",
    "maxOnes = 0\n",
    "\n",
    "while numbers[0] < 177 and rolls < 1000000:\n",
    "    numbers = [0, 0, 0, 0]\n",
    "    for i in repeat(None, 231):\n",
    "        roll = random.choice(items)\n",
    "        numbers[roll-1] = numbers[roll-1] + 1\n",
    "    rolls = rolls + 1\n",
    "    if numbers[0] > maxOnes:\n",
    "        maxOnes = numbers[0]\n",
    "    \n",
    "    # Live display of elapsed time every 10000 rolls\n",
    "    if rolls % 10000 == 0:\n",
    "        current_time = time.time()\n",
    "        elapsed_time = current_time - start_time\n",
    "        print(f\"Rolls: {rolls}, Elapsed Time: {elapsed_time:.2f} seconds\", end='\\r')\n",
    "\n",
    "# End the timer\n",
    "end_time = time.time()\n",
    "\n",
    "print(\"\\nHighest Ones Roll:\", maxOnes)\n",
    "print(\"Number of Roll Sessions: \", rolls)\n",
    "print(\"Elapsed Time: {:.2f} seconds\".format(end_time - start_time))"
   ]
  }
 ],
 "metadata": {
  "kernelspec": {
   "display_name": "base",
   "language": "python",
   "name": "python3"
  },
  "language_info": {
   "codemirror_mode": {
    "name": "ipython",
    "version": 3
   },
   "file_extension": ".py",
   "mimetype": "text/x-python",
   "name": "python",
   "nbconvert_exporter": "python",
   "pygments_lexer": "ipython3",
   "version": "3.10.9"
  }
 },
 "nbformat": 4,
 "nbformat_minor": 2
}
